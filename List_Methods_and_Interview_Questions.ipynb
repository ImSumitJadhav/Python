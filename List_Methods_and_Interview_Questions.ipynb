{
  "nbformat": 4,
  "nbformat_minor": 0,
  "metadata": {
    "colab": {
      "provenance": [],
      "authorship_tag": "ABX9TyO3x1voLq8AJpZMbbvOVMuR",
      "include_colab_link": true
    },
    "kernelspec": {
      "name": "python3",
      "display_name": "Python 3"
    },
    "language_info": {
      "name": "python"
    }
  },
  "cells": [
    {
      "cell_type": "markdown",
      "metadata": {
        "id": "view-in-github",
        "colab_type": "text"
      },
      "source": [
        "<a href=\"https://colab.research.google.com/github/ImSumitJadhav/Python/blob/main/List_Methods_and_Interview_Questions.ipynb\" target=\"_parent\"><img src=\"https://colab.research.google.com/assets/colab-badge.svg\" alt=\"Open In Colab\"/></a>"
      ]
    },
    {
      "cell_type": "markdown",
      "source": [
        "# **List**"
      ],
      "metadata": {
        "id": "djejdkwkm7dv"
      }
    },
    {
      "cell_type": "code",
      "source": [
        "l=[\"red\",\"green\",\"blue\",\"yellow\",\"black\"]"
      ],
      "metadata": {
        "id": "5q1mlRKUS-_1"
      },
      "execution_count": null,
      "outputs": []
    },
    {
      "cell_type": "markdown",
      "source": [
        "**1.How to append element in list**"
      ],
      "metadata": {
        "id": "xngFjI3_SyWH"
      }
    },
    {
      "cell_type": "code",
      "source": [
        "#Adds an element at the end of the list\n",
        "l.append(\"white\")\n",
        "l"
      ],
      "metadata": {
        "colab": {
          "base_uri": "https://localhost:8080/"
        },
        "id": "abJg9L7aStCb",
        "outputId": "ad12640f-7663-4b8e-e9ea-e3bf0121c42a"
      },
      "execution_count": null,
      "outputs": [
        {
          "output_type": "execute_result",
          "data": {
            "text/plain": [
              "['red', 'green', 'blue', 'yellow', 'black', 'white']"
            ]
          },
          "metadata": {},
          "execution_count": 3
        }
      ]
    },
    {
      "cell_type": "markdown",
      "source": [
        "**2.How to copy list**"
      ],
      "metadata": {
        "id": "PYkPRIenUE_a"
      }
    },
    {
      "cell_type": "code",
      "source": [
        "#Returns a copy of the list\n",
        "copy_list=l.copy()\n",
        "copy_list"
      ],
      "metadata": {
        "colab": {
          "base_uri": "https://localhost:8080/"
        },
        "id": "toLdFFX0T-yC",
        "outputId": "9d66d25d-9604-42c9-d871-f78ad70a3580"
      },
      "execution_count": null,
      "outputs": [
        {
          "output_type": "execute_result",
          "data": {
            "text/plain": [
              "['red', 'green', 'blue', 'yellow', 'black', 'white']"
            ]
          },
          "metadata": {},
          "execution_count": 4
        }
      ]
    },
    {
      "cell_type": "code",
      "source": [
        "#Returns a copy of the list\n",
        "copy_list2=l\n",
        "copy_list2"
      ],
      "metadata": {
        "colab": {
          "base_uri": "https://localhost:8080/"
        },
        "id": "Xh5QBvC0UTPy",
        "outputId": "f6fdb817-0074-4f81-ee1e-847d8392a3ab"
      },
      "execution_count": null,
      "outputs": [
        {
          "output_type": "execute_result",
          "data": {
            "text/plain": [
              "['red', 'green', 'blue', 'yellow', 'black', 'white']"
            ]
          },
          "metadata": {},
          "execution_count": 5
        }
      ]
    },
    {
      "cell_type": "markdown",
      "source": [
        "**3.How to find count of variable in the list**"
      ],
      "metadata": {
        "id": "Gv2MUKH4UQKj"
      }
    },
    {
      "cell_type": "code",
      "source": [
        "#Returns the number of elements with the specified value\n",
        "l.count(\"black\")"
      ],
      "metadata": {
        "colab": {
          "base_uri": "https://localhost:8080/"
        },
        "id": "miNzO4M_Uk-D",
        "outputId": "d2189450-36e1-4eca-b921-86f9a2a45d4b"
      },
      "execution_count": null,
      "outputs": [
        {
          "output_type": "execute_result",
          "data": {
            "text/plain": [
              "1"
            ]
          },
          "metadata": {},
          "execution_count": 6
        }
      ]
    },
    {
      "cell_type": "markdown",
      "source": [
        "**4.How to add multiple elements to the list**"
      ],
      "metadata": {
        "id": "HGVEIpG9Uw1T"
      }
    },
    {
      "cell_type": "code",
      "source": [
        "#Add the elements of a list (or any iterable), to the end of the current list\n",
        "list2=[\"ford\",\"suzuki\",\"jeep\"]\n",
        "l.extend(list2)\n",
        "l"
      ],
      "metadata": {
        "colab": {
          "base_uri": "https://localhost:8080/"
        },
        "id": "CdvABIEPVER9",
        "outputId": "459b0ea0-0a58-41c2-e856-2486adfc3e27"
      },
      "execution_count": null,
      "outputs": [
        {
          "output_type": "execute_result",
          "data": {
            "text/plain": [
              "['red', 'green', 'blue', 'yellow', 'black', 'white', 'ford', 'suzuki', 'jeep']"
            ]
          },
          "metadata": {},
          "execution_count": 7
        }
      ]
    },
    {
      "cell_type": "markdown",
      "source": [
        "**5.How to get index of a element**"
      ],
      "metadata": {
        "id": "-_15bTX3Vyz3"
      }
    },
    {
      "cell_type": "code",
      "source": [
        "#Returns the index of the first element with the specified value\n",
        "l.index(\"black\")"
      ],
      "metadata": {
        "colab": {
          "base_uri": "https://localhost:8080/"
        },
        "id": "gZtLChS9UcIa",
        "outputId": "8f10ea87-740d-45c3-9baf-fdc160a904b3"
      },
      "execution_count": null,
      "outputs": [
        {
          "output_type": "execute_result",
          "data": {
            "text/plain": [
              "4"
            ]
          },
          "metadata": {},
          "execution_count": 8
        }
      ]
    },
    {
      "cell_type": "markdown",
      "source": [
        "**6.How to insert one element to particuler position**"
      ],
      "metadata": {
        "id": "YMkwOVj3WDDk"
      }
    },
    {
      "cell_type": "code",
      "source": [
        "#Adds an element at the specified position\n",
        "l.insert(3,\"orrange\")\n",
        "l"
      ],
      "metadata": {
        "colab": {
          "base_uri": "https://localhost:8080/"
        },
        "id": "sWyeW64yV3uy",
        "outputId": "1bb15779-d60d-4626-9764-39dd08eefb8f"
      },
      "execution_count": null,
      "outputs": [
        {
          "output_type": "execute_result",
          "data": {
            "text/plain": [
              "['red',\n",
              " 'green',\n",
              " 'blue',\n",
              " 'orrange',\n",
              " 'yellow',\n",
              " 'black',\n",
              " 'white',\n",
              " 'ford',\n",
              " 'suzuki',\n",
              " 'jeep']"
            ]
          },
          "metadata": {},
          "execution_count": 9
        }
      ]
    },
    {
      "cell_type": "markdown",
      "source": [
        "**7.How to remove element in the list**"
      ],
      "metadata": {
        "id": "uSGqhRf7Wgbi"
      }
    },
    {
      "cell_type": "code",
      "source": [
        "#Removes the element at the specified position(if not given then it will remove last value in the list)\n",
        "l.pop(3)\n",
        "l"
      ],
      "metadata": {
        "colab": {
          "base_uri": "https://localhost:8080/"
        },
        "id": "kywBipusWkdE",
        "outputId": "24fc382d-58cd-4217-efd3-8a1bff45ac69"
      },
      "execution_count": null,
      "outputs": [
        {
          "output_type": "execute_result",
          "data": {
            "text/plain": [
              "['red', 'green', 'blue', 'yellow', 'black', 'white', 'ford', 'suzuki', 'jeep']"
            ]
          },
          "metadata": {},
          "execution_count": 10
        }
      ]
    },
    {
      "cell_type": "code",
      "source": [
        "#on the basis of value\n",
        "l.remove(\"black\")\n",
        "l"
      ],
      "metadata": {
        "colab": {
          "base_uri": "https://localhost:8080/"
        },
        "id": "7TzWBBw2W11T",
        "outputId": "c236ad8a-c751-475d-a5fb-717297e77ada"
      },
      "execution_count": null,
      "outputs": [
        {
          "output_type": "execute_result",
          "data": {
            "text/plain": [
              "['red', 'green', 'blue', 'yellow', 'white', 'ford', 'suzuki', 'jeep']"
            ]
          },
          "metadata": {},
          "execution_count": 11
        }
      ]
    },
    {
      "cell_type": "markdown",
      "source": [
        "**8.How to reverse the list**"
      ],
      "metadata": {
        "id": "RRjHdEAhXGTK"
      }
    },
    {
      "cell_type": "code",
      "source": [
        "#Reverses the order of the list\n",
        "l.reverse()\n",
        "l"
      ],
      "metadata": {
        "colab": {
          "base_uri": "https://localhost:8080/"
        },
        "id": "RuoYAS_SXLBY",
        "outputId": "47c324f5-a7cc-4832-b4a6-cd2ff8662d93"
      },
      "execution_count": null,
      "outputs": [
        {
          "output_type": "execute_result",
          "data": {
            "text/plain": [
              "['jeep', 'suzuki', 'ford', 'white', 'yellow', 'blue', 'green', 'red']"
            ]
          },
          "metadata": {},
          "execution_count": 12
        }
      ]
    },
    {
      "cell_type": "markdown",
      "source": [
        "**9.How to sort list**"
      ],
      "metadata": {
        "id": "oWtx23yXXZ9i"
      }
    },
    {
      "cell_type": "code",
      "source": [
        "#Sorts the list\n",
        "#ascending\n",
        "l.sort()\n",
        "l"
      ],
      "metadata": {
        "colab": {
          "base_uri": "https://localhost:8080/"
        },
        "id": "-ab8FpGdXc8S",
        "outputId": "28675178-4d25-4b12-9a98-e01c0fb7c909"
      },
      "execution_count": null,
      "outputs": [
        {
          "output_type": "execute_result",
          "data": {
            "text/plain": [
              "['blue', 'ford', 'green', 'jeep', 'red', 'suzuki', 'white', 'yellow']"
            ]
          },
          "metadata": {},
          "execution_count": 13
        }
      ]
    },
    {
      "cell_type": "code",
      "source": [
        "#descending\n",
        "l.sort(reverse=True)\n",
        "l"
      ],
      "metadata": {
        "colab": {
          "base_uri": "https://localhost:8080/"
        },
        "id": "vXOyq8bvXx8N",
        "outputId": "9959dedb-d1e5-4e71-f6ca-f7ccd272c16e"
      },
      "execution_count": null,
      "outputs": [
        {
          "output_type": "execute_result",
          "data": {
            "text/plain": [
              "['yellow', 'white', 'suzuki', 'red', 'jeep', 'green', 'ford', 'blue']"
            ]
          },
          "metadata": {},
          "execution_count": 14
        }
      ]
    },
    {
      "cell_type": "markdown",
      "source": [
        "**10.How to clear all elements in the list**"
      ],
      "metadata": {
        "id": "-7JFR_5hTmBz"
      }
    },
    {
      "cell_type": "code",
      "source": [
        "#Removes all the elements from the list\n",
        "l.clear()\n",
        "l"
      ],
      "metadata": {
        "colab": {
          "base_uri": "https://localhost:8080/"
        },
        "id": "paQ4i3Z4Twla",
        "outputId": "217e3219-f7fc-4ca5-cb01-a5da4021b703"
      },
      "execution_count": null,
      "outputs": [
        {
          "output_type": "execute_result",
          "data": {
            "text/plain": [
              "[]"
            ]
          },
          "metadata": {},
          "execution_count": 15
        }
      ]
    },
    {
      "cell_type": "markdown",
      "source": [
        "# **Interview questions**"
      ],
      "metadata": {
        "id": "6O-rBU6Sbn_8"
      }
    },
    {
      "cell_type": "code",
      "source": [
        "l2=[1,2,3,4,5,6,6,6,\"red\",\"black\"]"
      ],
      "metadata": {
        "id": "u6VoQ8rfbrsC"
      },
      "execution_count": null,
      "outputs": []
    },
    {
      "cell_type": "markdown",
      "source": [
        "**1. Check if a list contains an element**"
      ],
      "metadata": {
        "id": "8p5hnJsSb8_b"
      }
    },
    {
      "cell_type": "code",
      "source": [
        "print(6 in l2)"
      ],
      "metadata": {
        "colab": {
          "base_uri": "https://localhost:8080/"
        },
        "id": "r6NAklq_b-jD",
        "outputId": "e939781c-c060-4c16-cab9-8a93c6264a11"
      },
      "execution_count": null,
      "outputs": [
        {
          "output_type": "stream",
          "name": "stdout",
          "text": [
            "True\n"
          ]
        }
      ]
    },
    {
      "cell_type": "markdown",
      "source": [
        "**2.How to remove duplicate items in list**"
      ],
      "metadata": {
        "id": "HRpWI1gdeFI2"
      }
    },
    {
      "cell_type": "code",
      "source": [
        "clean_list=list(set(l2))\n",
        "clean_list"
      ],
      "metadata": {
        "colab": {
          "base_uri": "https://localhost:8080/"
        },
        "id": "M6CizNy_cCdy",
        "outputId": "751cddb5-8a9d-4806-a3fa-fb7bba5ee4ba"
      },
      "execution_count": null,
      "outputs": [
        {
          "output_type": "execute_result",
          "data": {
            "text/plain": [
              "[1, 2, 3, 4, 5, 6, 'black', 'red']"
            ]
          },
          "metadata": {},
          "execution_count": 18
        }
      ]
    },
    {
      "cell_type": "markdown",
      "source": [
        "**3.Find the index of the 1st matching element**"
      ],
      "metadata": {
        "id": "Ou5d8yXBevU7"
      }
    },
    {
      "cell_type": "code",
      "source": [
        "l2.index(6)"
      ],
      "metadata": {
        "colab": {
          "base_uri": "https://localhost:8080/"
        },
        "id": "AHJMH4Z_eiN_",
        "outputId": "57a37280-f164-4e1a-e236-f61cc32ee155"
      },
      "execution_count": null,
      "outputs": [
        {
          "output_type": "execute_result",
          "data": {
            "text/plain": [
              "5"
            ]
          },
          "metadata": {},
          "execution_count": 19
        }
      ]
    },
    {
      "cell_type": "markdown",
      "source": [
        "**4.How to remove all elements in the list**"
      ],
      "metadata": {
        "id": "sXVsgoJee6DN"
      }
    },
    {
      "cell_type": "code",
      "source": [
        "l3=l2.copy()\n",
        "l3.clear()\n",
        "l3"
      ],
      "metadata": {
        "colab": {
          "base_uri": "https://localhost:8080/"
        },
        "id": "ZxX1qf21e0ON",
        "outputId": "c303e859-8f91-4933-a796-ee029ecfc741"
      },
      "execution_count": null,
      "outputs": [
        {
          "output_type": "execute_result",
          "data": {
            "text/plain": [
              "[]"
            ]
          },
          "metadata": {},
          "execution_count": 20
        }
      ]
    },
    {
      "cell_type": "markdown",
      "source": [
        "**5.How to concatinate two lists**"
      ],
      "metadata": {
        "id": "kMY6kt2UuZA5"
      }
    },
    {
      "cell_type": "code",
      "source": [
        "list1=[1,2,3,4,5]\n",
        "list2=[6,7,8,9]\n",
        "con_list=list1+list2\n",
        "con_list"
      ],
      "metadata": {
        "id": "Dd8E09c_fVck",
        "colab": {
          "base_uri": "https://localhost:8080/"
        },
        "outputId": "997c95ef-35ca-4b85-e042-0544c20ec749"
      },
      "execution_count": null,
      "outputs": [
        {
          "output_type": "execute_result",
          "data": {
            "text/plain": [
              "[1, 2, 3, 4, 5, 6, 7, 8, 9]"
            ]
          },
          "metadata": {},
          "execution_count": 21
        }
      ]
    },
    {
      "cell_type": "markdown",
      "source": [
        "**6.How to check if an element is not in a list?**"
      ],
      "metadata": {
        "id": "Qxi8Zju2yHJm"
      }
    },
    {
      "cell_type": "code",
      "source": [
        "list1=[1,2,3,4,5]\n",
        "print(5 not in list1)"
      ],
      "metadata": {
        "colab": {
          "base_uri": "https://localhost:8080/"
        },
        "id": "HePuGEdwutKx",
        "outputId": "1e9537e7-6378-43cc-bc70-b7c98da3a31f"
      },
      "execution_count": null,
      "outputs": [
        {
          "output_type": "stream",
          "name": "stdout",
          "text": [
            "False\n"
          ]
        }
      ]
    },
    {
      "cell_type": "code",
      "source": [
        "list1=[1,2,3,4,5]\n",
        "print(5 in list1)"
      ],
      "metadata": {
        "colab": {
          "base_uri": "https://localhost:8080/"
        },
        "id": "-s2afthkyVRz",
        "outputId": "ac1f1e24-3ba9-46c9-e5ca-3427938c03fd"
      },
      "execution_count": null,
      "outputs": [
        {
          "output_type": "stream",
          "name": "stdout",
          "text": [
            "True\n"
          ]
        }
      ]
    },
    {
      "cell_type": "markdown",
      "source": [
        "**7. Combine 2 lists into a list of tuples with the zip function**"
      ],
      "metadata": {
        "id": "RKxBbavwzoRW"
      }
    },
    {
      "cell_type": "code",
      "source": [
        "alphabet = ['a', 'b', 'c']\n",
        "integers = [1, 2, 3]\n",
        "list(zip(alphabet, integers))"
      ],
      "metadata": {
        "colab": {
          "base_uri": "https://localhost:8080/"
        },
        "id": "LL5lXsbow0eg",
        "outputId": "91ffa870-6771-4368-ffd7-e95187efc6d7"
      },
      "execution_count": null,
      "outputs": [
        {
          "output_type": "execute_result",
          "data": {
            "text/plain": [
              "[('a', 1), ('b', 2), ('c', 3)]"
            ]
          },
          "metadata": {},
          "execution_count": 24
        }
      ]
    },
    {
      "cell_type": "markdown",
      "source": [
        "**8.How to Write a Python program to sum all the items in a list**"
      ],
      "metadata": {
        "id": "uhTemeYgHBO8"
      }
    },
    {
      "cell_type": "code",
      "source": [
        "sum_of_list=sum(list1)\n",
        "sum_of_list"
      ],
      "metadata": {
        "colab": {
          "base_uri": "https://localhost:8080/"
        },
        "id": "NO4jBrc_FHp8",
        "outputId": "343683fd-2913-44f5-e382-eb1ccfc004f3"
      },
      "execution_count": null,
      "outputs": [
        {
          "output_type": "execute_result",
          "data": {
            "text/plain": [
              "15"
            ]
          },
          "metadata": {},
          "execution_count": 28
        }
      ]
    },
    {
      "cell_type": "markdown",
      "source": [
        "**9.How to Write a Python program to multiply all the items in a list**"
      ],
      "metadata": {
        "id": "q0OBHDEWH5p1"
      }
    },
    {
      "cell_type": "code",
      "source": [
        "import numpy as np\n",
        "mul_of_list=np.prod(list1)\n",
        "mul_of_list"
      ],
      "metadata": {
        "colab": {
          "base_uri": "https://localhost:8080/"
        },
        "id": "2sLCSI8uzeW2",
        "outputId": "a9ccde66-34cf-4cdf-de3f-2da26aefe73c"
      },
      "execution_count": null,
      "outputs": [
        {
          "output_type": "execute_result",
          "data": {
            "text/plain": [
              "120"
            ]
          },
          "metadata": {},
          "execution_count": 30
        }
      ]
    },
    {
      "cell_type": "markdown",
      "source": [
        "**10.Write a Python program to get the largest number from a list**"
      ],
      "metadata": {
        "id": "tKh-TDAbIF1a"
      }
    },
    {
      "cell_type": "code",
      "source": [
        "max_num=max(list1)\n",
        "max_num"
      ],
      "metadata": {
        "colab": {
          "base_uri": "https://localhost:8080/"
        },
        "id": "kZWM5YwuFHs0",
        "outputId": "128b5a41-04cf-4d0b-c79e-32c491f09d57"
      },
      "execution_count": null,
      "outputs": [
        {
          "output_type": "execute_result",
          "data": {
            "text/plain": [
              "5"
            ]
          },
          "metadata": {},
          "execution_count": 31
        }
      ]
    },
    {
      "cell_type": "markdown",
      "source": [
        "**11.Write a Python program to get the smallest number from a list**"
      ],
      "metadata": {
        "id": "g59yU7E5IRXE"
      }
    },
    {
      "cell_type": "code",
      "source": [
        "min_num=min(list1)\n",
        "min_num"
      ],
      "metadata": {
        "colab": {
          "base_uri": "https://localhost:8080/"
        },
        "id": "SY5AeHvQGmr8",
        "outputId": "8c63fdfd-4bf1-4eb6-c168-2330307b4067"
      },
      "execution_count": null,
      "outputs": [
        {
          "output_type": "execute_result",
          "data": {
            "text/plain": [
              "1"
            ]
          },
          "metadata": {},
          "execution_count": 32
        }
      ]
    }
  ]
}