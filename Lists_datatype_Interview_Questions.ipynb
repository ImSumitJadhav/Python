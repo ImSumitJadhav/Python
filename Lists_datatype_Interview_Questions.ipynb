{
  "nbformat": 4,
  "nbformat_minor": 0,
  "metadata": {
    "colab": {
      "provenance": [],
      "authorship_tag": "ABX9TyO8uKnIBlZHj++T/CSvwZmU",
      "include_colab_link": true
    },
    "kernelspec": {
      "name": "python3",
      "display_name": "Python 3"
    },
    "language_info": {
      "name": "python"
    }
  },
  "cells": [
    {
      "cell_type": "markdown",
      "metadata": {
        "id": "view-in-github",
        "colab_type": "text"
      },
      "source": [
        "<a href=\"https://colab.research.google.com/github/ImSumitJadhav/Python/blob/main/Lists_datatype_Interview_Questions.ipynb\" target=\"_parent\"><img src=\"https://colab.research.google.com/assets/colab-badge.svg\" alt=\"Open In Colab\"/></a>"
      ]
    },
    {
      "cell_type": "code",
      "execution_count": 1,
      "metadata": {
        "id": "dKZTTR7jgHi1",
        "colab": {
          "base_uri": "https://localhost:8080/"
        },
        "outputId": "45b8f79e-dc43-454d-d76a-d07d1fba7e0e"
      },
      "outputs": [
        {
          "output_type": "stream",
          "name": "stdout",
          "text": [
            "[6, 2, 3, 4, 5, 1]\n"
          ]
        }
      ],
      "source": [
        "#Python program to interchange first and last elements in a list\n",
        "def swapcase(l):\n",
        "  first=l[0]\n",
        "  last=l[-1]\n",
        "  l[0]=last\n",
        "  l[-1]=first\n",
        "  return l\n",
        "\n",
        "\n",
        "l=[1,2,3,4,5,6]\n",
        "swapcase(l)\n",
        "print(l)"
      ]
    },
    {
      "cell_type": "code",
      "source": [
        "#Python Program to Swap Two Elements in a List\n",
        "def swapcase(l):\n",
        "  first=l[0]\n",
        "  second=l[2]\n",
        "  l[0]=22\n",
        "  l[2]=33\n",
        "  return l\n",
        "\n",
        "\n",
        "l=[1,2,3,4,5,6]\n",
        "swapcase(l)\n",
        "print(l)"
      ],
      "metadata": {
        "colab": {
          "base_uri": "https://localhost:8080/"
        },
        "id": "8eO2GTW8Nk99",
        "outputId": "f8f154fc-285f-48e8-fb27-4db64530f1bb"
      },
      "execution_count": 2,
      "outputs": [
        {
          "output_type": "stream",
          "name": "stdout",
          "text": [
            "[22, 2, 33, 4, 5, 6]\n"
          ]
        }
      ]
    },
    {
      "cell_type": "code",
      "source": [
        "#Swap elements in String list\n",
        "\n",
        "l=[\"my\",\"name\",\"Sumit\"]\n",
        "\n",
        "new_list=[sub.replace(\"m\",\"M\").replace(\"n\",\"N\") for sub in l]\n",
        "\n",
        "new_list"
      ],
      "metadata": {
        "colab": {
          "base_uri": "https://localhost:8080/"
        },
        "id": "mb32ILNCOPqm",
        "outputId": "88107cf3-4a7d-4a54-f8a2-aee5fa83abbb"
      },
      "execution_count": 3,
      "outputs": [
        {
          "output_type": "execute_result",
          "data": {
            "text/plain": [
              "['My', 'NaMe', 'SuMit']"
            ]
          },
          "metadata": {},
          "execution_count": 3
        }
      ]
    },
    {
      "cell_type": "code",
      "source": [
        "#Find Maximum of two numbers in Python\n",
        "a=89\n",
        "b=22\n",
        "\n",
        "if a>b:\n",
        "  max_num=a\n",
        "elif b>a:\n",
        "  max_num=b\n",
        "else:\n",
        "  print(\"same number\")\n",
        "\n",
        "max_num"
      ],
      "metadata": {
        "colab": {
          "base_uri": "https://localhost:8080/"
        },
        "id": "IAPaoXr7O5i3",
        "outputId": "af1a8bd1-b19e-4913-9ba4-a78901550aec"
      },
      "execution_count": 4,
      "outputs": [
        {
          "output_type": "execute_result",
          "data": {
            "text/plain": [
              "89"
            ]
          },
          "metadata": {},
          "execution_count": 4
        }
      ]
    },
    {
      "cell_type": "code",
      "source": [
        "#Minimum of two numbers in Python\n",
        "a=89\n",
        "b=22\n",
        "\n",
        "if a<b:\n",
        "  min_num=a\n",
        "elif b<a:\n",
        "  min_num=b\n",
        "else:\n",
        "  print(\"same number\")\n",
        "\n",
        "min_num"
      ],
      "metadata": {
        "colab": {
          "base_uri": "https://localhost:8080/"
        },
        "id": "UY2lzAafSev8",
        "outputId": "e9358088-0036-4f0a-f16d-4763966b9282"
      },
      "execution_count": 5,
      "outputs": [
        {
          "output_type": "execute_result",
          "data": {
            "text/plain": [
              "22"
            ]
          },
          "metadata": {},
          "execution_count": 5
        }
      ]
    },
    {
      "cell_type": "code",
      "source": [
        "#Check if element exists in list in Python\n",
        "\n",
        "l=[1,2,3,4,5,6,7]\n",
        "\n",
        "4 in l"
      ],
      "metadata": {
        "colab": {
          "base_uri": "https://localhost:8080/"
        },
        "id": "uQidGqDuTEqR",
        "outputId": "c3b1766c-21a6-478c-9eaf-5e484f85df6b"
      },
      "execution_count": 6,
      "outputs": [
        {
          "output_type": "execute_result",
          "data": {
            "text/plain": [
              "True"
            ]
          },
          "metadata": {},
          "execution_count": 6
        }
      ]
    },
    {
      "cell_type": "code",
      "source": [
        "#Different ways to clear a list in Python\n",
        "\n",
        "l=[1,2,3,4,5,6,7]\n",
        "l.clear()\n",
        "print(l)"
      ],
      "metadata": {
        "colab": {
          "base_uri": "https://localhost:8080/"
        },
        "id": "wyPRlt34UkbU",
        "outputId": "8b9be87a-85fc-412b-ff85-e09bf7c10e67"
      },
      "execution_count": 7,
      "outputs": [
        {
          "output_type": "stream",
          "name": "stdout",
          "text": [
            "[]\n"
          ]
        }
      ]
    },
    {
      "cell_type": "code",
      "source": [
        "#Reversing a List in Python\n",
        "\n",
        "l=[1,2,3,4,5,6,7]\n",
        "l.reverse()\n",
        "l"
      ],
      "metadata": {
        "colab": {
          "base_uri": "https://localhost:8080/"
        },
        "id": "YVbNyTgaVkLz",
        "outputId": "8aa1896a-c4b5-464e-f2b9-0025ebb9df98"
      },
      "execution_count": 8,
      "outputs": [
        {
          "output_type": "execute_result",
          "data": {
            "text/plain": [
              "[7, 6, 5, 4, 3, 2, 1]"
            ]
          },
          "metadata": {},
          "execution_count": 8
        }
      ]
    },
    {
      "cell_type": "code",
      "source": [
        "#Reversing a List in Python\n",
        "\n",
        "l=[1,2,3,4,5,6,7]\n",
        "n_list=l[::-1]\n",
        "n_list"
      ],
      "metadata": {
        "colab": {
          "base_uri": "https://localhost:8080/"
        },
        "id": "qhAiGIbvWPXu",
        "outputId": "fbe09771-9c98-4fa4-c2fa-3619796dc9b7"
      },
      "execution_count": 9,
      "outputs": [
        {
          "output_type": "execute_result",
          "data": {
            "text/plain": [
              "[7, 6, 5, 4, 3, 2, 1]"
            ]
          },
          "metadata": {},
          "execution_count": 9
        }
      ]
    },
    {
      "cell_type": "code",
      "source": [
        "#Cloning or Copying a list\n",
        "l=[1,2,3,4]\n",
        "\n",
        "copy1=l[:]\n",
        "\n",
        "copy2=l.copy()\n",
        "\n",
        "copy3=l\n",
        "\n",
        "list1=[]\n",
        "copy4=list1.extend(l)\n",
        "\n"
      ],
      "metadata": {
        "id": "dEbii7V0SViG"
      },
      "execution_count": 10,
      "outputs": []
    },
    {
      "cell_type": "code",
      "source": [
        "#Count occurrences of an element in a list\n",
        "\n",
        "#way1\n",
        "l=[1,2,3,4,5,6,7,2,2]\n",
        "\n",
        "c1=l.count(2)\n",
        "print(c1)\n",
        "\n",
        "#way2\n",
        "l=[1,2,3,4,5,6,7,2,2]\n",
        "x=2\n",
        "c=0\n",
        "for i in l:\n",
        "  if i==2:\n",
        "    c=c+1\n",
        "  else:\n",
        "    pass\n",
        "\n",
        "print(c)\n",
        "\n",
        "#way3\n",
        "import pandas as pd\n",
        "count = pd.Series(l).value_counts()\n",
        "print(count)"
      ],
      "metadata": {
        "colab": {
          "base_uri": "https://localhost:8080/"
        },
        "id": "JnP0yJfUSHTE",
        "outputId": "11028164-c367-4ca9-9288-7ee8375a5d34"
      },
      "execution_count": 11,
      "outputs": [
        {
          "output_type": "stream",
          "name": "stdout",
          "text": [
            "3\n",
            "3\n",
            "2    3\n",
            "1    1\n",
            "3    1\n",
            "4    1\n",
            "5    1\n",
            "6    1\n",
            "7    1\n",
            "dtype: int64\n"
          ]
        }
      ]
    },
    {
      "cell_type": "code",
      "source": [
        "from numpy.lib.function_base import average\n",
        "#Find sum and average of List in Python\n",
        "\n",
        "l=[1,2,3,4,5,6,7,2,2]\n",
        "\n",
        "sum1=sum(l)\n",
        "print(\"sum is- \",sum1)\n",
        "\n",
        "avr1=average(l)\n",
        "print(\"Average is- \",avr1)"
      ],
      "metadata": {
        "colab": {
          "base_uri": "https://localhost:8080/"
        },
        "id": "rpfb8Lx4SfpJ",
        "outputId": "421ae656-8c46-4bed-bbfa-312a2481abd2"
      },
      "execution_count": 12,
      "outputs": [
        {
          "output_type": "stream",
          "name": "stdout",
          "text": [
            "sum is-  32\n",
            "Average is-  3.5555555555555554\n"
          ]
        }
      ]
    },
    {
      "cell_type": "code",
      "source": [
        "#Sum of number digits in List\n",
        "\n",
        "l=[17,22,33,4,54,66,70,62,72]\n",
        "m=[]\n",
        "for i in l:\n",
        "  i=str(i)\n",
        "  c=0\n",
        "  for n in i:\n",
        "    c=c+int(n)\n",
        "  m.append(c)\n",
        "\n",
        "print(m)"
      ],
      "metadata": {
        "colab": {
          "base_uri": "https://localhost:8080/"
        },
        "id": "KPkjHPTuWm1Q",
        "outputId": "0820f528-2600-44bf-e491-a188fe9151fb"
      },
      "execution_count": 13,
      "outputs": [
        {
          "output_type": "stream",
          "name": "stdout",
          "text": [
            "[8, 4, 6, 4, 9, 12, 7, 8, 9]\n"
          ]
        }
      ]
    },
    {
      "cell_type": "code",
      "source": [
        "#Python program to find largest number in a list\n",
        "l=[17,22,33,4,54,66,70,62,72]\n",
        "\n",
        "#way1\n",
        "a1=max(l)\n",
        "a1\n",
        "\n",
        "#way2\n",
        "l2=sorted(l)[-1]\n",
        "l2"
      ],
      "metadata": {
        "colab": {
          "base_uri": "https://localhost:8080/"
        },
        "id": "NY2JfJdiZV0Q",
        "outputId": "7f5fb116-7877-461e-a3ee-7bb15df09635"
      },
      "execution_count": 14,
      "outputs": [
        {
          "output_type": "execute_result",
          "data": {
            "text/plain": [
              "72"
            ]
          },
          "metadata": {},
          "execution_count": 14
        }
      ]
    },
    {
      "cell_type": "code",
      "source": [
        "##Python program to find smallest number in a list\n",
        "\n",
        "l=[17,22,33,4,54,66,70,62,72]\n",
        "\n",
        "#way1\n",
        "a1=min(l)\n",
        "a1\n",
        "\n",
        "#way2\n",
        "l2=sorted(l)[0]\n",
        "l2\n",
        "\n",
        "#way3\n",
        "l.sort()\n",
        "l[0]"
      ],
      "metadata": {
        "id": "o8HAgJg5dXnh",
        "colab": {
          "base_uri": "https://localhost:8080/"
        },
        "outputId": "c44e6321-878a-47d8-b8ef-e481cd02cdfc"
      },
      "execution_count": 15,
      "outputs": [
        {
          "output_type": "execute_result",
          "data": {
            "text/plain": [
              "4"
            ]
          },
          "metadata": {},
          "execution_count": 15
        }
      ]
    },
    {
      "cell_type": "code",
      "source": [
        "#Python program to find second largest number in a list\n",
        "l=[17,22,33,4,54,66,70,62,72]\n",
        "\n",
        "#way1\n",
        "l2=sorted(l)[-2]\n",
        "l2\n",
        "\n",
        "#way2\n",
        "l2=sorted(l,reverse=True)[1]\n",
        "l2"
      ],
      "metadata": {
        "colab": {
          "base_uri": "https://localhost:8080/"
        },
        "id": "XJYNzvyF728w",
        "outputId": "775eb4e9-4d59-4da3-e793-8b59f0388a40"
      },
      "execution_count": 16,
      "outputs": [
        {
          "output_type": "execute_result",
          "data": {
            "text/plain": [
              "70"
            ]
          },
          "metadata": {},
          "execution_count": 16
        }
      ]
    },
    {
      "cell_type": "code",
      "source": [
        "#Python program to print even and odd numbers in a list\n",
        "\n",
        "l=[17,22,33,4,54,66,70,62,72]\n",
        "even=[]\n",
        "odd=[]\n",
        "\n",
        "for i in l:\n",
        "  if i%2==0:\n",
        "    even.append(i)\n",
        "  else:\n",
        "    odd.append(i)\n",
        "\n",
        "print(\"even numbers are- \",even)\n",
        "\n",
        "print(\"odd numbers are- \",odd)\n",
        "\n"
      ],
      "metadata": {
        "colab": {
          "base_uri": "https://localhost:8080/"
        },
        "id": "9t7wVMtO8BS5",
        "outputId": "79fe0aea-6d07-49bd-ed3b-843a3056e48a"
      },
      "execution_count": 17,
      "outputs": [
        {
          "output_type": "stream",
          "name": "stdout",
          "text": [
            "even numbers are-  [22, 4, 54, 66, 70, 62, 72]\n",
            "odd numbers are-  [17, 33]\n"
          ]
        }
      ]
    },
    {
      "cell_type": "code",
      "source": [
        "#Python program to print all even numbers in a range\n",
        "\n",
        "even=[]\n",
        "odd=[]\n",
        "\n",
        "for i in range(10,100):\n",
        "  if i%2==0:\n",
        "    even.append(i)\n",
        "  else:\n",
        "    odd.append(i)\n",
        "\n",
        "print(\"even numbers are- \",even)\n",
        "\n",
        "print(\"odd numbers are- \",odd)\n"
      ],
      "metadata": {
        "colab": {
          "base_uri": "https://localhost:8080/"
        },
        "id": "8qHPfkTf8tgJ",
        "outputId": "f1f133f7-c991-4009-b4db-de3d37be94ab"
      },
      "execution_count": 18,
      "outputs": [
        {
          "output_type": "stream",
          "name": "stdout",
          "text": [
            "even numbers are-  [10, 12, 14, 16, 18, 20, 22, 24, 26, 28, 30, 32, 34, 36, 38, 40, 42, 44, 46, 48, 50, 52, 54, 56, 58, 60, 62, 64, 66, 68, 70, 72, 74, 76, 78, 80, 82, 84, 86, 88, 90, 92, 94, 96, 98]\n",
            "odd numbers are-  [11, 13, 15, 17, 19, 21, 23, 25, 27, 29, 31, 33, 35, 37, 39, 41, 43, 45, 47, 49, 51, 53, 55, 57, 59, 61, 63, 65, 67, 69, 71, 73, 75, 77, 79, 81, 83, 85, 87, 89, 91, 93, 95, 97, 99]\n"
          ]
        }
      ]
    },
    {
      "cell_type": "code",
      "source": [
        "#Python program to count Even and Odd numbers in a List\n",
        "l=[17,22,33,4,54,66,70,62,72]\n",
        "even=[]\n",
        "odd=[]\n",
        "\n",
        "for i in l:\n",
        "  if i%2==0:\n",
        "    even.append(i)\n",
        "  else:\n",
        "    odd.append(i)\n",
        "\n",
        "print(\"count of even numbers are- \",len(even))\n",
        "\n",
        "print(\"count of odd numbers are- \",len(odd))\n"
      ],
      "metadata": {
        "colab": {
          "base_uri": "https://localhost:8080/"
        },
        "id": "nohGIo8A-lBK",
        "outputId": "082af919-dd93-476c-81bd-623d86b0e76f"
      },
      "execution_count": 19,
      "outputs": [
        {
          "output_type": "stream",
          "name": "stdout",
          "text": [
            "count of even numbers are-  7\n",
            "count of odd numbers are-  2\n"
          ]
        }
      ]
    },
    {
      "cell_type": "code",
      "source": [
        "#Python program to print positive numbers in a list\n",
        "l=[17,22,33,-4,-54,66,70,62,-72]\n",
        "p=[]\n",
        "n=[]\n",
        "\n",
        "for i in l:\n",
        "  if i>=0:\n",
        "    p.append(i)\n",
        "  else:\n",
        "    n.append(i)\n",
        "\n",
        "print(\"Positive numbers are- \",len(p))\n",
        "\n",
        "print(\"Negetive numbers are- \",len(n))\n"
      ],
      "metadata": {
        "colab": {
          "base_uri": "https://localhost:8080/"
        },
        "id": "1jvtozUF_LVp",
        "outputId": "f0b9d049-fcc4-4fde-daa3-9780a0126cd5"
      },
      "execution_count": 20,
      "outputs": [
        {
          "output_type": "stream",
          "name": "stdout",
          "text": [
            "Positive numbers are-  6\n",
            "Negetive numbers are-  3\n"
          ]
        }
      ]
    },
    {
      "cell_type": "code",
      "source": [
        "#Python program to print all positive numbers in a range\n",
        "\n",
        "p=[]\n",
        "n=[]\n",
        "\n",
        "for i in range(-10,30):\n",
        "  if i>=0:\n",
        "    p.append(i)\n",
        "  else:\n",
        "    n.append(i)\n",
        "\n",
        "print(\"positive numbers are- \",p)\n",
        "\n",
        "print(\"negetive numbers are- \",n)"
      ],
      "metadata": {
        "colab": {
          "base_uri": "https://localhost:8080/"
        },
        "id": "Dr69ZtDo_2m9",
        "outputId": "2a00bba5-634a-4366-e368-2f4ca8630557"
      },
      "execution_count": 21,
      "outputs": [
        {
          "output_type": "stream",
          "name": "stdout",
          "text": [
            "positive numbers are-  [0, 1, 2, 3, 4, 5, 6, 7, 8, 9, 10, 11, 12, 13, 14, 15, 16, 17, 18, 19, 20, 21, 22, 23, 24, 25, 26, 27, 28, 29]\n",
            "negetive numbers are-  [-10, -9, -8, -7, -6, -5, -4, -3, -2, -1]\n"
          ]
        }
      ]
    },
    {
      "cell_type": "code",
      "source": [
        "#Python program to print all positive numbers in a range\n",
        "\n",
        "p=[]\n",
        "n=[]\n",
        "\n",
        "for i in range(-10,30):\n",
        "  if i>=0:\n",
        "    p.append(i)\n",
        "  else:\n",
        "    n.append(i)\n",
        "\n",
        "print(\"count of positive numbers are- \",len(p))\n",
        "\n",
        "print(\"count of negetive numbers are- \",len(n))"
      ],
      "metadata": {
        "colab": {
          "base_uri": "https://localhost:8080/"
        },
        "id": "WwmllsFgAGC8",
        "outputId": "f6702bf6-2364-4022-b629-097298146daa"
      },
      "execution_count": 22,
      "outputs": [
        {
          "output_type": "stream",
          "name": "stdout",
          "text": [
            "count of positive numbers are-  30\n",
            "count of negetive numbers are-  10\n"
          ]
        }
      ]
    },
    {
      "cell_type": "code",
      "source": [
        "l=[17,22,33,4,54,66,70,62,72]\n",
        "\n",
        "remove_list=[22,66]\n",
        "for i in l:\n",
        "  if i in remove_list:\n",
        "    l.remove(i)\n",
        "print(l)"
      ],
      "metadata": {
        "colab": {
          "base_uri": "https://localhost:8080/"
        },
        "id": "8VDkKMNkCBXK",
        "outputId": "6cce3adc-6d71-4d12-d55c-01a20f7adf56"
      },
      "execution_count": 23,
      "outputs": [
        {
          "output_type": "stream",
          "name": "stdout",
          "text": [
            "[17, 33, 4, 54, 70, 62, 72]\n"
          ]
        }
      ]
    },
    {
      "cell_type": "code",
      "source": [
        "#Remove empty tuples from a list\n",
        "\n",
        "tuples = [(), ('ram','15','8'), (), ('laxman', 'sita'),('krishna', 'akbar', '45'), ('',''),()]\n",
        "for i in tuples:\n",
        "  if len(i)==0:\n",
        "    tuples.remove(i)\n",
        "\n",
        "tuples"
      ],
      "metadata": {
        "colab": {
          "base_uri": "https://localhost:8080/"
        },
        "id": "iiV-v5vbCW_h",
        "outputId": "1884f8da-4b0a-41e7-f3c7-eaa42410d3dd"
      },
      "execution_count": 24,
      "outputs": [
        {
          "output_type": "execute_result",
          "data": {
            "text/plain": [
              "[('ram', '15', '8'), ('laxman', 'sita'), ('krishna', 'akbar', '45'), ('', '')]"
            ]
          },
          "metadata": {},
          "execution_count": 24
        }
      ]
    },
    {
      "cell_type": "code",
      "source": [
        "#Program to print duplicates from a list of integers\n",
        "l = [10, 20, 30, 20, 20, 30, 40, 50, -20, 60, 60, -20, -20]\n",
        "\n",
        "ul=[]\n",
        "for i in l:\n",
        "  c=0\n",
        "  c=l.count(i)\n",
        "  if c > 1:\n",
        "    if i not in ul:\n",
        "      ul.append(i)\n",
        "    else:\n",
        "      pass\n",
        "\n",
        "ul"
      ],
      "metadata": {
        "colab": {
          "base_uri": "https://localhost:8080/"
        },
        "id": "B-rHfxFxj6t2",
        "outputId": "0384f445-7890-4be8-ea9b-f6a36f3a7508"
      },
      "execution_count": 25,
      "outputs": [
        {
          "output_type": "execute_result",
          "data": {
            "text/plain": [
              "[20, 30, -20, 60]"
            ]
          },
          "metadata": {},
          "execution_count": 25
        }
      ]
    },
    {
      "cell_type": "code",
      "source": [
        "#Python program to Remove the last element from list\n",
        "\n",
        "l = [10, 20, 30, 20, 20, 30, 40, 50, -20, 60, 60, -20]\n",
        "\n",
        "#way1\n",
        "l.pop()\n",
        "print(l)\n",
        "\n",
        "#way2\n",
        "l=l[:-1]\n",
        "print(l)\n",
        "\n",
        "#way3\n",
        "del l[-1]\n",
        "print(l)"
      ],
      "metadata": {
        "colab": {
          "base_uri": "https://localhost:8080/"
        },
        "id": "ju3oO9BClNaN",
        "outputId": "dcc4bc88-af9b-40f3-c87d-f4fe4e44861b"
      },
      "execution_count": 26,
      "outputs": [
        {
          "output_type": "stream",
          "name": "stdout",
          "text": [
            "[10, 20, 30, 20, 20, 30, 40, 50, -20, 60, 60]\n",
            "[10, 20, 30, 20, 20, 30, 40, 50, -20, 60]\n",
            "[10, 20, 30, 20, 20, 30, 40, 50, -20]\n"
          ]
        }
      ]
    },
    {
      "cell_type": "code",
      "source": [
        "#Python – Find index of maximum item in list\n",
        "\n",
        "l = [10, 20, 30, 20, 20, 30, 40, 50, -20, 60, 60, -20]\n",
        "l1=max(pd.Series(l).value_counts())\n",
        "l1"
      ],
      "metadata": {
        "id": "8V4eVBUPneRA",
        "colab": {
          "base_uri": "https://localhost:8080/"
        },
        "outputId": "15b25712-116b-4220-af2d-aa6a5aa00c06"
      },
      "execution_count": 27,
      "outputs": [
        {
          "output_type": "execute_result",
          "data": {
            "text/plain": [
              "3"
            ]
          },
          "metadata": {},
          "execution_count": 27
        }
      ]
    },
    {
      "cell_type": "code",
      "source": [
        "#Remove elements larger than a specific value from a list in Python\n",
        "\n",
        "l = [10, 20, 30, 20, 20, 30, 40, 50, -20, 60, 60, -20]\n",
        "\n",
        "for i in l:\n",
        "  if i>40:\n",
        "    l.remove(i)\n",
        "\n",
        "l"
      ],
      "metadata": {
        "id": "lLNuPzL2pASD",
        "colab": {
          "base_uri": "https://localhost:8080/"
        },
        "outputId": "c45e1c0b-daa4-4045-9a5f-f3a494cc12c8"
      },
      "execution_count": 28,
      "outputs": [
        {
          "output_type": "execute_result",
          "data": {
            "text/plain": [
              "[10, 20, 30, 20, 20, 30, 40, -20, 60, -20]"
            ]
          },
          "metadata": {},
          "execution_count": 28
        }
      ]
    },
    {
      "cell_type": "code",
      "source": [
        "#Python Program to get Maximum product of elements of list in a 2D list\n",
        "import numpy as np\n",
        "l=[[1, 2, 3], [4, 5, 6], [7, 8, 9]]\n",
        "\n",
        "l2=[]\n",
        "for i in l:\n",
        "  l2.append(np.prod(i))\n",
        "\n",
        "m=max(l2)\n",
        "\n",
        "m"
      ],
      "metadata": {
        "colab": {
          "base_uri": "https://localhost:8080/"
        },
        "id": "UM9YsDnFWe2P",
        "outputId": "40d4e77a-b1df-4e7b-e5c4-e9651ff1074f"
      },
      "execution_count": 29,
      "outputs": [
        {
          "output_type": "execute_result",
          "data": {
            "text/plain": [
              "504"
            ]
          },
          "metadata": {},
          "execution_count": 29
        }
      ]
    },
    {
      "cell_type": "code",
      "source": [
        "#Python program to find the sum of a Sublist\n",
        "\n",
        "#way1\n",
        "l = [10, 20, 30, 20, 20, 30, 40, 50, -20, 60, 60, -20]\n",
        "sum_of_list=sum(l[3:8])\n",
        "sum_of_list\n",
        "\n",
        "#way2\n",
        "l = [10, 20, 30, 20, 20, 30, 40, 50, -20, 60, 60, -20]\n",
        "s=0\n",
        "for i in l[3:8]:\n",
        "  s=s+i\n",
        "\n",
        "s"
      ],
      "metadata": {
        "colab": {
          "base_uri": "https://localhost:8080/"
        },
        "id": "LYUfB1ntX6Nw",
        "outputId": "0ba849d8-caab-4d6b-f1a0-c37879a406e2"
      },
      "execution_count": 30,
      "outputs": [
        {
          "output_type": "execute_result",
          "data": {
            "text/plain": [
              "160"
            ]
          },
          "metadata": {},
          "execution_count": 30
        }
      ]
    },
    {
      "cell_type": "code",
      "source": [
        "#Python Program to Square Each Odd Number in a List using List Comprehension\n",
        "\n",
        "l = [11, 23, 30, 20, 25, 30, 40, 59, -11, 60, 60, -20]\n",
        "sq=[]\n",
        "for i in l:\n",
        "  if i%2!=0:\n",
        "    sq.append(i**2)\n",
        "\n",
        "print(sq)\n",
        "\n",
        "#way2\n",
        "result=[i**2 for i in l if i%2!=0 ]\n",
        "result"
      ],
      "metadata": {
        "colab": {
          "base_uri": "https://localhost:8080/"
        },
        "id": "OzCOCgroYX-T",
        "outputId": "34fd4f32-e13c-48ba-80b2-979a6666520c"
      },
      "execution_count": 31,
      "outputs": [
        {
          "output_type": "stream",
          "name": "stdout",
          "text": [
            "[121, 529, 625, 3481, 121]\n"
          ]
        },
        {
          "output_type": "execute_result",
          "data": {
            "text/plain": [
              "[121, 529, 625, 3481, 121]"
            ]
          },
          "metadata": {},
          "execution_count": 31
        }
      ]
    },
    {
      "cell_type": "code",
      "source": [
        "#Remove common elements from two list in Python\n",
        "\n",
        "l1 = [11, 23, 30, 20, 25, 30, 40, 59, -11, 60, 60, -20]\n",
        "\n",
        "l2 = [10, 20, 30, 20, 20, 30, 40, 50, -20, 60, 60, -20]\n",
        "\n",
        "\n",
        "for i in l1[:]:\n",
        "  if i in l2:\n",
        "    l1.remove(i)\n",
        "    l2.remove(i)\n",
        "  else:\n",
        "    pass\n",
        "print(list(l1))\n",
        "print(list(l2))"
      ],
      "metadata": {
        "colab": {
          "base_uri": "https://localhost:8080/"
        },
        "id": "N0_NZno-Yo05",
        "outputId": "efb96f4d-ce9a-43b7-f172-98cc8cce66cd"
      },
      "execution_count": 32,
      "outputs": [
        {
          "output_type": "stream",
          "name": "stdout",
          "text": [
            "[11, 23, 25, 59, -11]\n",
            "[10, 20, 20, 50, -20]\n"
          ]
        }
      ]
    },
    {
      "cell_type": "code",
      "source": [
        "#Python – Get the indices of all occurrences of an element in a list\n",
        "l2 = [10, 20, 30, 20, 20, 30, 40, 50, -20, 60, 60, -20]\n",
        "item=20\n",
        "s=[i for i in range(len(l2)) if l2[i]==item]\n",
        "s"
      ],
      "metadata": {
        "colab": {
          "base_uri": "https://localhost:8080/"
        },
        "id": "6ubckzisaJfW",
        "outputId": "863a9370-77f4-443d-b3e8-5839b74534f0"
      },
      "execution_count": 33,
      "outputs": [
        {
          "output_type": "execute_result",
          "data": {
            "text/plain": [
              "[1, 3, 4]"
            ]
          },
          "metadata": {},
          "execution_count": 33
        }
      ]
    },
    {
      "cell_type": "code",
      "source": [
        "#Find Index containing String in List\n",
        "\n",
        "l2 = [10, 20, \"22\", 20, \"99\", 30, 40, 50, \"999\", 60, 60, -20]\n",
        "\n",
        "s=[i for i in range(len(l2)) if type(l2[i]) == str]\n",
        "s"
      ],
      "metadata": {
        "colab": {
          "base_uri": "https://localhost:8080/"
        },
        "id": "t9p9_vLHfDF4",
        "outputId": "ae05ad20-2f3a-4b0d-a9b2-9b481fef7d8f"
      },
      "execution_count": 34,
      "outputs": [
        {
          "output_type": "execute_result",
          "data": {
            "text/plain": [
              "[2, 4, 8]"
            ]
          },
          "metadata": {},
          "execution_count": 34
        }
      ]
    },
    {
      "cell_type": "code",
      "source": [
        "#Concatenate two list of lists Row-wise\n",
        "\n",
        "l1 = [[4, 3, 5], [1, 2, 3], [3, 7, 4]]\n",
        "l2 = [[1, 3], [9, 3, 5, 7], [8]]\n",
        "\n",
        "a1=[]\n",
        "c=0\n",
        "\n",
        "for i in l1[:]:\n",
        "  a1.append(i+l2[c])\n",
        "  c=c+1\n",
        "\n",
        "a1"
      ],
      "metadata": {
        "colab": {
          "base_uri": "https://localhost:8080/"
        },
        "id": "G06CVwtigebP",
        "outputId": "a38d0a37-1781-4908-9bbc-719da954ff38"
      },
      "execution_count": 35,
      "outputs": [
        {
          "output_type": "execute_result",
          "data": {
            "text/plain": [
              "[[4, 3, 5, 1, 3], [1, 2, 3, 9, 3, 5, 7], [3, 7, 4, 8]]"
            ]
          },
          "metadata": {},
          "execution_count": 35
        }
      ]
    },
    {
      "cell_type": "code",
      "source": [
        "# Remove empty List from List\n",
        "\n",
        "#way1\n",
        "l = [10, [], 30, [], 20, 30, 40, [], [], 60, 60, -20]\n",
        "n=[]\n",
        "for i in l:\n",
        "  if i !=[]:\n",
        "    n.append(i)\n",
        "print(n)\n",
        "\n",
        "#way2\n",
        "l = [10, [], 30, [], 20, 30, 40, [], [], 60, 60, -20]\n",
        "r=list(filter(None,l))\n",
        "r"
      ],
      "metadata": {
        "colab": {
          "base_uri": "https://localhost:8080/"
        },
        "id": "pE2Z6sjJjTgv",
        "outputId": "73504466-669e-4e97-edd0-fc53859f5397"
      },
      "execution_count": 36,
      "outputs": [
        {
          "output_type": "stream",
          "name": "stdout",
          "text": [
            "[10, 30, 20, 30, 40, 60, 60, -20]\n"
          ]
        },
        {
          "output_type": "execute_result",
          "data": {
            "text/plain": [
              "[10, 30, 20, 30, 40, 60, 60, -20]"
            ]
          },
          "metadata": {},
          "execution_count": 36
        }
      ]
    },
    {
      "cell_type": "code",
      "source": [
        "#Uncommon elements in Lists of List\n",
        "t1 = [ [1, 2], [3, 4], [5, 6] ]\n",
        "t2 = [ [3, 4], [5, 7], [1, 2] ]\n",
        "t3=[]\n",
        "for i in t1:\n",
        "  if i not in t2:\n",
        "    t3.append(i)\n",
        "for n in t2:\n",
        "  if n not in t1:\n",
        "    t3.append(n)\n",
        "t3"
      ],
      "metadata": {
        "colab": {
          "base_uri": "https://localhost:8080/"
        },
        "id": "LMJO723-kJuI",
        "outputId": "fc17c706-69e8-4bfa-c02e-aaf35dbc27e1"
      },
      "execution_count": 47,
      "outputs": [
        {
          "output_type": "execute_result",
          "data": {
            "text/plain": [
              "[[5, 6], [5, 7]]"
            ]
          },
          "metadata": {},
          "execution_count": 47
        }
      ]
    },
    {
      "cell_type": "code",
      "source": [
        "#Python program to select Random value from list of lists\n",
        "from itertools import chain\n",
        "import random\n",
        "l2 = [[4, 5, 5], [2, 7, 4], [8, 6, 3]]\n",
        "a=random.choice(list(chain.from_iterable(l2)))\n",
        "a"
      ],
      "metadata": {
        "colab": {
          "base_uri": "https://localhost:8080/"
        },
        "id": "mKU5o2x5mSJr",
        "outputId": "bfa4d720-a66a-41b6-d890-5d3bcc04bbe6"
      },
      "execution_count": 55,
      "outputs": [
        {
          "output_type": "execute_result",
          "data": {
            "text/plain": [
              "6"
            ]
          },
          "metadata": {},
          "execution_count": 55
        }
      ]
    },
    {
      "cell_type": "code",
      "source": [
        "#Python – Reverse Row sort in Lists of List\n",
        "l2 = [[4, 5, 5], [2, 7, 4], [8, 6, 3]]\n",
        "\n",
        "for i in l2:\n",
        "  i.sort(reverse=True)\n",
        "\n",
        "l2"
      ],
      "metadata": {
        "colab": {
          "base_uri": "https://localhost:8080/"
        },
        "id": "EWv-Kpi8nfs3",
        "outputId": "dc37fb1b-2742-42d7-bad1-277e6f439b47"
      },
      "execution_count": 58,
      "outputs": [
        {
          "output_type": "execute_result",
          "data": {
            "text/plain": [
              "[[5, 5, 4], [7, 4, 2], [8, 6, 3]]"
            ]
          },
          "metadata": {},
          "execution_count": 58
        }
      ]
    },
    {
      "cell_type": "code",
      "source": [],
      "metadata": {
        "id": "eCf_Qy7LpELn"
      },
      "execution_count": null,
      "outputs": []
    }
  ]
}