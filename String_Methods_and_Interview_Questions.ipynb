{
  "nbformat": 4,
  "nbformat_minor": 0,
  "metadata": {
    "colab": {
      "provenance": [],
      "authorship_tag": "ABX9TyNqaHssNHPTYhseNpSkp2ha",
      "include_colab_link": true
    },
    "kernelspec": {
      "name": "python3",
      "display_name": "Python 3"
    },
    "language_info": {
      "name": "python"
    }
  },
  "cells": [
    {
      "cell_type": "markdown",
      "metadata": {
        "id": "view-in-github",
        "colab_type": "text"
      },
      "source": [
        "<a href=\"https://colab.research.google.com/github/ImSumitJadhav/Python/blob/main/String_Methods_and_Interview_Questions.ipynb\" target=\"_parent\"><img src=\"https://colab.research.google.com/assets/colab-badge.svg\" alt=\"Open In Colab\"/></a>"
      ]
    },
    {
      "cell_type": "markdown",
      "source": [
        "# **String**"
      ],
      "metadata": {
        "id": "djejdkwkm7dv"
      }
    },
    {
      "cell_type": "markdown",
      "source": [
        "**1.How to convert string into various cases**"
      ],
      "metadata": {
        "id": "zghRoiD5EwdH"
      }
    },
    {
      "cell_type": "code",
      "source": [
        "#example sentence\n",
        "sen=\"India is my country. All Indians are my brothers and sisters\""
      ],
      "metadata": {
        "id": "m2xWHm2IEdGM"
      },
      "execution_count": 32,
      "outputs": []
    },
    {
      "cell_type": "code",
      "source": [
        "#lower\n",
        "a1=sen.lower()\n",
        "a1"
      ],
      "metadata": {
        "colab": {
          "base_uri": "https://localhost:8080/",
          "height": 35
        },
        "id": "JsBWiIkaHH_P",
        "outputId": "ef885157-3e1e-42db-86a7-93c055e7817b"
      },
      "execution_count": 33,
      "outputs": [
        {
          "output_type": "execute_result",
          "data": {
            "text/plain": [
              "'india is my country. all indians are my brothers and sisters'"
            ],
            "application/vnd.google.colaboratory.intrinsic+json": {
              "type": "string"
            }
          },
          "metadata": {},
          "execution_count": 33
        }
      ]
    },
    {
      "cell_type": "code",
      "source": [
        "#upper\n",
        "a2=sen.upper()\n",
        "a2"
      ],
      "metadata": {
        "colab": {
          "base_uri": "https://localhost:8080/",
          "height": 35
        },
        "id": "G_--Dmz5HNk5",
        "outputId": "b84ffadf-bc08-4bd7-e765-3221920ef53d"
      },
      "execution_count": 34,
      "outputs": [
        {
          "output_type": "execute_result",
          "data": {
            "text/plain": [
              "'INDIA IS MY COUNTRY. ALL INDIANS ARE MY BROTHERS AND SISTERS'"
            ],
            "application/vnd.google.colaboratory.intrinsic+json": {
              "type": "string"
            }
          },
          "metadata": {},
          "execution_count": 34
        }
      ]
    },
    {
      "cell_type": "code",
      "source": [
        "#only 1st word is capital\n",
        "a3=sen.capitalize()\n",
        "a3"
      ],
      "metadata": {
        "colab": {
          "base_uri": "https://localhost:8080/",
          "height": 35
        },
        "id": "fspfW986HSwh",
        "outputId": "d5f1be67-b435-43fe-9640-25178486575c"
      },
      "execution_count": 35,
      "outputs": [
        {
          "output_type": "execute_result",
          "data": {
            "text/plain": [
              "'India is my country. all indians are my brothers and sisters'"
            ],
            "application/vnd.google.colaboratory.intrinsic+json": {
              "type": "string"
            }
          },
          "metadata": {},
          "execution_count": 35
        }
      ]
    },
    {
      "cell_type": "code",
      "source": [
        "#lowercase\n",
        "a4=sen.casefold()\n",
        "a4"
      ],
      "metadata": {
        "colab": {
          "base_uri": "https://localhost:8080/",
          "height": 35
        },
        "id": "kKYu8QCqHaBF",
        "outputId": "65b52b89-e56b-47f7-b786-f28e1fd87283"
      },
      "execution_count": 36,
      "outputs": [
        {
          "output_type": "execute_result",
          "data": {
            "text/plain": [
              "'india is my country. all indians are my brothers and sisters'"
            ],
            "application/vnd.google.colaboratory.intrinsic+json": {
              "type": "string"
            }
          },
          "metadata": {},
          "execution_count": 36
        }
      ]
    },
    {
      "cell_type": "code",
      "source": [
        "#lower to upper and upper to lower convert\n",
        "a5=sen.swapcase()\n",
        "a5"
      ],
      "metadata": {
        "colab": {
          "base_uri": "https://localhost:8080/",
          "height": 35
        },
        "id": "s4z_-E74HhyW",
        "outputId": "4cbf9a82-603b-4ed7-f11e-c422f45a8c31"
      },
      "execution_count": 37,
      "outputs": [
        {
          "output_type": "execute_result",
          "data": {
            "text/plain": [
              "'iNDIA IS MY COUNTRY. aLL iNDIANS ARE MY BROTHERS AND SISTERS'"
            ],
            "application/vnd.google.colaboratory.intrinsic+json": {
              "type": "string"
            }
          },
          "metadata": {},
          "execution_count": 37
        }
      ]
    },
    {
      "cell_type": "code",
      "source": [
        "#each word of sentence is capital\n",
        "a6=sen.title()\n",
        "a6"
      ],
      "metadata": {
        "colab": {
          "base_uri": "https://localhost:8080/",
          "height": 35
        },
        "id": "fh6ybEMuICe9",
        "outputId": "355fa06b-0ad4-4562-b928-87d00603421c"
      },
      "execution_count": 38,
      "outputs": [
        {
          "output_type": "execute_result",
          "data": {
            "text/plain": [
              "'India Is My Country. All Indians Are My Brothers And Sisters'"
            ],
            "application/vnd.google.colaboratory.intrinsic+json": {
              "type": "string"
            }
          },
          "metadata": {},
          "execution_count": 38
        }
      ]
    },
    {
      "cell_type": "markdown",
      "source": [
        "**2.How to count items in a string**"
      ],
      "metadata": {
        "id": "ZKs7uuCkKcb_"
      }
    },
    {
      "cell_type": "code",
      "source": [
        "#count\n",
        "b1=sen.count(\"All\")\n",
        "b1"
      ],
      "metadata": {
        "colab": {
          "base_uri": "https://localhost:8080/"
        },
        "id": "ND_K36G1IU83",
        "outputId": "8a5fda1a-075e-48df-d153-a736f42bc5e3"
      },
      "execution_count": 39,
      "outputs": [
        {
          "output_type": "execute_result",
          "data": {
            "text/plain": [
              "1"
            ]
          },
          "metadata": {},
          "execution_count": 39
        }
      ]
    },
    {
      "cell_type": "markdown",
      "source": [
        "**3.How to identify string**"
      ],
      "metadata": {
        "id": "ZyZ3rx8mLznm"
      }
    },
    {
      "cell_type": "code",
      "source": [
        "#Returns True if all characters in the string are alphanumeric\n",
        "#Example of characters that are not alphanumeric: (space)!#%&? etc.\n",
        "c1=sen.isalnum()\n",
        "c1"
      ],
      "metadata": {
        "colab": {
          "base_uri": "https://localhost:8080/"
        },
        "id": "vDwPXwE1Kzu8",
        "outputId": "55dd6623-c091-454c-ddd8-d0d058367dd1"
      },
      "execution_count": 40,
      "outputs": [
        {
          "output_type": "execute_result",
          "data": {
            "text/plain": [
              "False"
            ]
          },
          "metadata": {},
          "execution_count": 40
        }
      ]
    },
    {
      "cell_type": "code",
      "source": [
        "#Returns True if all characters in the string are in the alphabet\n",
        "c2=sen.isalpha()\n",
        "c2"
      ],
      "metadata": {
        "colab": {
          "base_uri": "https://localhost:8080/"
        },
        "id": "tBCe7wdcMVzx",
        "outputId": "1f351bcb-0b71-442b-e1f6-135608310c8e"
      },
      "execution_count": 41,
      "outputs": [
        {
          "output_type": "execute_result",
          "data": {
            "text/plain": [
              "False"
            ]
          },
          "metadata": {},
          "execution_count": 41
        }
      ]
    },
    {
      "cell_type": "code",
      "source": [
        "#Returns True if all characters in the string are decimals\n",
        "c3=sen.isdecimal()\n",
        "c3"
      ],
      "metadata": {
        "colab": {
          "base_uri": "https://localhost:8080/"
        },
        "id": "fDG6E9qyNnrM",
        "outputId": "73a7f54b-8628-4f42-d95f-a41ffcf1e34c"
      },
      "execution_count": 42,
      "outputs": [
        {
          "output_type": "execute_result",
          "data": {
            "text/plain": [
              "False"
            ]
          },
          "metadata": {},
          "execution_count": 42
        }
      ]
    },
    {
      "cell_type": "code",
      "source": [
        "#\tReturns True if all characters in the string are digits\n",
        "c4=sen.isdigit()\n",
        "c4"
      ],
      "metadata": {
        "colab": {
          "base_uri": "https://localhost:8080/"
        },
        "id": "I8Ka2f_8N1tq",
        "outputId": "a30bbdd7-9dae-4c96-e567-7c88b92a57b2"
      },
      "execution_count": 43,
      "outputs": [
        {
          "output_type": "execute_result",
          "data": {
            "text/plain": [
              "False"
            ]
          },
          "metadata": {},
          "execution_count": 43
        }
      ]
    },
    {
      "cell_type": "code",
      "source": [
        "#A string is considered a valid identifier if it only contains alphanumeric letters (a-z) and (0-9), or underscores (_). A valid identifier cannot start with a number, or contain any spaces.\n",
        "c5=sen.isidentifier()\n",
        "c5"
      ],
      "metadata": {
        "colab": {
          "base_uri": "https://localhost:8080/"
        },
        "id": "0BcbUNzUPedD",
        "outputId": "92fafca7-1b22-4d6b-97ae-3b60c964a5fd"
      },
      "execution_count": 44,
      "outputs": [
        {
          "output_type": "execute_result",
          "data": {
            "text/plain": [
              "False"
            ]
          },
          "metadata": {},
          "execution_count": 44
        }
      ]
    },
    {
      "cell_type": "code",
      "source": [
        "#Returns True if all characters in the string are lower case\n",
        "c6=sen.islower()\n",
        "c6"
      ],
      "metadata": {
        "colab": {
          "base_uri": "https://localhost:8080/"
        },
        "id": "5d2tOqGRQEi9",
        "outputId": "36b86c8c-7a9e-45a6-fa0f-1f6dc4cb52c0"
      },
      "execution_count": 45,
      "outputs": [
        {
          "output_type": "execute_result",
          "data": {
            "text/plain": [
              "False"
            ]
          },
          "metadata": {},
          "execution_count": 45
        }
      ]
    },
    {
      "cell_type": "code",
      "source": [
        "#Returns True if all characters in the string are numeric\n",
        "c7=sen.isnumeric()\n",
        "c7"
      ],
      "metadata": {
        "colab": {
          "base_uri": "https://localhost:8080/"
        },
        "id": "HrCBcATBQRCR",
        "outputId": "a05d954a-a1a7-4ee6-de94-bcab4df1716e"
      },
      "execution_count": 46,
      "outputs": [
        {
          "output_type": "execute_result",
          "data": {
            "text/plain": [
              "False"
            ]
          },
          "metadata": {},
          "execution_count": 46
        }
      ]
    },
    {
      "cell_type": "code",
      "source": [
        "#Returns True if all characters in the string are printable\n",
        "c8=sen.isprintable()\n",
        "c8"
      ],
      "metadata": {
        "colab": {
          "base_uri": "https://localhost:8080/"
        },
        "id": "pJlYbtn0QZLq",
        "outputId": "b030acb7-8083-4aa4-a3c5-f3f5447513aa"
      },
      "execution_count": 47,
      "outputs": [
        {
          "output_type": "execute_result",
          "data": {
            "text/plain": [
              "True"
            ]
          },
          "metadata": {},
          "execution_count": 47
        }
      ]
    },
    {
      "cell_type": "code",
      "source": [
        "#Returns True if all characters in the string are whitespaces\n",
        "c9=sen.isspace()\n",
        "c9"
      ],
      "metadata": {
        "colab": {
          "base_uri": "https://localhost:8080/"
        },
        "id": "6e8fS3AEQzbX",
        "outputId": "d3d8bf68-ae63-43df-9a1c-18976093f54b"
      },
      "execution_count": 48,
      "outputs": [
        {
          "output_type": "execute_result",
          "data": {
            "text/plain": [
              "False"
            ]
          },
          "metadata": {},
          "execution_count": 48
        }
      ]
    },
    {
      "cell_type": "code",
      "source": [
        "#Returns True if the string follows the rules of a title\n",
        "c10=sen.istitle()\n",
        "c10"
      ],
      "metadata": {
        "colab": {
          "base_uri": "https://localhost:8080/"
        },
        "id": "rzbI3QonQ98D",
        "outputId": "c1ba50d5-a644-4d8c-cd5f-497654f2033d"
      },
      "execution_count": 49,
      "outputs": [
        {
          "output_type": "execute_result",
          "data": {
            "text/plain": [
              "False"
            ]
          },
          "metadata": {},
          "execution_count": 49
        }
      ]
    },
    {
      "cell_type": "code",
      "source": [
        "#Returns True if all characters in the string are upper case\n",
        "c11=sen.isupper()\n",
        "c11"
      ],
      "metadata": {
        "colab": {
          "base_uri": "https://localhost:8080/"
        },
        "id": "HmpugUhHRL5H",
        "outputId": "e20795b3-76d5-43b8-be16-d3f01e5dd773"
      },
      "execution_count": 50,
      "outputs": [
        {
          "output_type": "execute_result",
          "data": {
            "text/plain": [
              "False"
            ]
          },
          "metadata": {},
          "execution_count": 50
        }
      ]
    },
    {
      "cell_type": "code",
      "source": [
        "#Returns true if the string ends with the specified value\n",
        "c12=sen.endswith(\"sisters\")\n",
        "c12"
      ],
      "metadata": {
        "colab": {
          "base_uri": "https://localhost:8080/"
        },
        "id": "8l5fS46ZRY9-",
        "outputId": "2a0ab655-5a75-4b62-c2b3-905efcb8d234"
      },
      "execution_count": 51,
      "outputs": [
        {
          "output_type": "execute_result",
          "data": {
            "text/plain": [
              "True"
            ]
          },
          "metadata": {},
          "execution_count": 51
        }
      ]
    },
    {
      "cell_type": "code",
      "source": [
        "#Returns true if the string starts with the specified value\n",
        "c13=sen.startswith(\"India\")\n",
        "c13"
      ],
      "metadata": {
        "colab": {
          "base_uri": "https://localhost:8080/"
        },
        "id": "DwKegnb8Ru5A",
        "outputId": "b9e0e094-4ac7-43b8-f933-5a791e6dbc04"
      },
      "execution_count": 52,
      "outputs": [
        {
          "output_type": "execute_result",
          "data": {
            "text/plain": [
              "True"
            ]
          },
          "metadata": {},
          "execution_count": 52
        }
      ]
    },
    {
      "cell_type": "markdown",
      "source": [
        "**4.How to encode the string**"
      ],
      "metadata": {
        "id": "NtgKEbj9SWfG"
      }
    },
    {
      "cell_type": "code",
      "source": [
        "#encoding string\n",
        "d1=sen.encode()\n",
        "d1"
      ],
      "metadata": {
        "colab": {
          "base_uri": "https://localhost:8080/"
        },
        "id": "QmltmlgUR-14",
        "outputId": "27541172-6604-47b6-cf97-03896873e3d5"
      },
      "execution_count": 53,
      "outputs": [
        {
          "output_type": "execute_result",
          "data": {
            "text/plain": [
              "b'India is my country. All Indians are my brothers and sisters'"
            ]
          },
          "metadata": {},
          "execution_count": 53
        }
      ]
    },
    {
      "cell_type": "markdown",
      "source": [
        "**5.How to find position number of item**"
      ],
      "metadata": {
        "id": "CtYo0jFwVal_"
      }
    },
    {
      "cell_type": "code",
      "source": [
        "#find 1st occurance index number\n",
        "e1=sen.find(\"All\")\n",
        "e1"
      ],
      "metadata": {
        "colab": {
          "base_uri": "https://localhost:8080/"
        },
        "id": "EZI1PTCZVNuI",
        "outputId": "03e40700-5e38-4960-8f6a-7de5baec4536"
      },
      "execution_count": 54,
      "outputs": [
        {
          "output_type": "execute_result",
          "data": {
            "text/plain": [
              "21"
            ]
          },
          "metadata": {},
          "execution_count": 54
        }
      ]
    },
    {
      "cell_type": "code",
      "source": [
        "#find index from left hand side and in between range\n",
        "e2=sen.index(\"A\",0,25)\n",
        "e2"
      ],
      "metadata": {
        "colab": {
          "base_uri": "https://localhost:8080/"
        },
        "id": "VWSRk27kSlnC",
        "outputId": "301a7416-e69e-4a69-d67d-048ace3960ea"
      },
      "execution_count": 55,
      "outputs": [
        {
          "output_type": "execute_result",
          "data": {
            "text/plain": [
              "21"
            ]
          },
          "metadata": {},
          "execution_count": 55
        }
      ]
    },
    {
      "cell_type": "code",
      "source": [
        "#Searches the string for a specified value and returns the last position of where it was found\n",
        "e3=sen.rfind(\"my\")\n",
        "e3"
      ],
      "metadata": {
        "colab": {
          "base_uri": "https://localhost:8080/"
        },
        "id": "2ZO-VacKmJMX",
        "outputId": "81fe1bed-914e-4051-888e-111fb13cbae2"
      },
      "execution_count": 56,
      "outputs": [
        {
          "output_type": "execute_result",
          "data": {
            "text/plain": [
              "37"
            ]
          },
          "metadata": {},
          "execution_count": 56
        }
      ]
    },
    {
      "cell_type": "code",
      "source": [
        "#Searches the string for a specified value and returns the last position of where it was found\n",
        "e4=sen.rindex(\"my\")\n",
        "e4"
      ],
      "metadata": {
        "colab": {
          "base_uri": "https://localhost:8080/"
        },
        "id": "LHNarH8zmdaM",
        "outputId": "bcefc1ee-0822-4523-bcad-0ba489820160"
      },
      "execution_count": 57,
      "outputs": [
        {
          "output_type": "execute_result",
          "data": {
            "text/plain": [
              "37"
            ]
          },
          "metadata": {},
          "execution_count": 57
        }
      ]
    },
    {
      "cell_type": "markdown",
      "source": [
        "**6.How to replace item in string**"
      ],
      "metadata": {
        "id": "dBnTyIExeG66"
      }
    },
    {
      "cell_type": "code",
      "source": [
        "#repalce particuler word in sentence\n",
        "f1=str.maketrans(\"India\", \"INDIA\")\n",
        "print(sen.translate(f1))"
      ],
      "metadata": {
        "colab": {
          "base_uri": "https://localhost:8080/"
        },
        "id": "03MWTUOneBck",
        "outputId": "57e21304-6799-4b4c-977d-caee3489aa07"
      },
      "execution_count": 58,
      "outputs": [
        {
          "output_type": "stream",
          "name": "stdout",
          "text": [
            "INDIA Is my couNtry. All INDIANs Are my brothers AND sIsters\n"
          ]
        }
      ]
    },
    {
      "cell_type": "code",
      "source": [
        "#replace words\n",
        "f2=sen.replace(\"All\",\"all\")\n",
        "f2"
      ],
      "metadata": {
        "colab": {
          "base_uri": "https://localhost:8080/",
          "height": 35
        },
        "id": "rlSQeJReeVGA",
        "outputId": "787425a0-46d7-4086-a7c0-09fa28ae7118"
      },
      "execution_count": 59,
      "outputs": [
        {
          "output_type": "execute_result",
          "data": {
            "text/plain": [
              "'India is my country. all Indians are my brothers and sisters'"
            ],
            "application/vnd.google.colaboratory.intrinsic+json": {
              "type": "string"
            }
          },
          "metadata": {},
          "execution_count": 59
        }
      ]
    },
    {
      "cell_type": "markdown",
      "source": [
        "**7.How to split the string**"
      ],
      "metadata": {
        "id": "QQKC5Eldkcz4"
      }
    },
    {
      "cell_type": "code",
      "source": [
        "#split with particuler item\n",
        "g1=sen.split(\".\")\n",
        "g1"
      ],
      "metadata": {
        "colab": {
          "base_uri": "https://localhost:8080/"
        },
        "id": "lD8j49yOgS13",
        "outputId": "a373078c-bd1c-4bcb-b3ca-3f44cf0a33d7"
      },
      "execution_count": 60,
      "outputs": [
        {
          "output_type": "execute_result",
          "data": {
            "text/plain": [
              "['India is my country', ' All Indians are my brothers and sisters']"
            ]
          },
          "metadata": {},
          "execution_count": 60
        }
      ]
    },
    {
      "cell_type": "markdown",
      "source": [
        "# **Interview Questions on String**"
      ],
      "metadata": {
        "id": "iA4FofbnntqE"
      }
    },
    {
      "cell_type": "markdown",
      "source": [
        "**How would you check if each word in a string begins with a capital letter?**"
      ],
      "metadata": {
        "id": "W8owPtFTn0Ue"
      }
    },
    {
      "cell_type": "code",
      "source": [
        "print(sen.istitle())  #<<<<<<<<<<<<<<< If True then each word starts with capital letter otherwise false."
      ],
      "metadata": {
        "colab": {
          "base_uri": "https://localhost:8080/"
        },
        "id": "XNrBEqpgluYf",
        "outputId": "c63532c3-9211-4c62-d863-059f3f3dde81"
      },
      "execution_count": 61,
      "outputs": [
        {
          "output_type": "stream",
          "name": "stdout",
          "text": [
            "False\n"
          ]
        }
      ]
    },
    {
      "cell_type": "markdown",
      "source": [
        "**Check if a string contains a specific substring**"
      ],
      "metadata": {
        "id": "m2eBHT97ostb"
      }
    },
    {
      "cell_type": "code",
      "source": [
        "print(\"my\" in sen)   #<<<<<<<<<<<<<<< If True then substring is in main string otherwise false."
      ],
      "metadata": {
        "colab": {
          "base_uri": "https://localhost:8080/"
        },
        "id": "2nOZmGVfori6",
        "outputId": "b2c1397e-c12a-43ef-a61c-bcf9a6241381"
      },
      "execution_count": 62,
      "outputs": [
        {
          "output_type": "stream",
          "name": "stdout",
          "text": [
            "True\n"
          ]
        }
      ]
    },
    {
      "cell_type": "markdown",
      "source": [
        "**Find the index of the first occurrence of a substring in a string**"
      ],
      "metadata": {
        "id": "-0_MRES7pJmu"
      }
    },
    {
      "cell_type": "code",
      "source": [
        "print(sen.find(\"m\"))"
      ],
      "metadata": {
        "colab": {
          "base_uri": "https://localhost:8080/"
        },
        "id": "43qrC0kPo7Kj",
        "outputId": "3b1196aa-b33e-4709-cb3b-8828905240af"
      },
      "execution_count": 63,
      "outputs": [
        {
          "output_type": "stream",
          "name": "stdout",
          "text": [
            "9\n"
          ]
        }
      ]
    },
    {
      "cell_type": "markdown",
      "source": [
        "**Count the total number of characters in a string**"
      ],
      "metadata": {
        "id": "PDb8UN4ppnHO"
      }
    },
    {
      "cell_type": "code",
      "source": [
        "print(len(sen))"
      ],
      "metadata": {
        "colab": {
          "base_uri": "https://localhost:8080/"
        },
        "id": "lYX4Cl4Upa1y",
        "outputId": "9f2102b9-87de-4148-b0e4-a5b34fb314df"
      },
      "execution_count": 64,
      "outputs": [
        {
          "output_type": "stream",
          "name": "stdout",
          "text": [
            "60\n"
          ]
        }
      ]
    },
    {
      "cell_type": "markdown",
      "source": [
        "**Count the number of a specific character in a string**"
      ],
      "metadata": {
        "id": "4JQcrf0Ppx99"
      }
    },
    {
      "cell_type": "code",
      "source": [
        "print(sen.count(\"my\"))"
      ],
      "metadata": {
        "colab": {
          "base_uri": "https://localhost:8080/"
        },
        "id": "UwkcpThxpsjm",
        "outputId": "4f305e33-c862-4005-dc17-44af016542b7"
      },
      "execution_count": 65,
      "outputs": [
        {
          "output_type": "stream",
          "name": "stdout",
          "text": [
            "2\n"
          ]
        }
      ]
    },
    {
      "cell_type": "markdown",
      "source": [
        "**Capitalize the first character of a string**"
      ],
      "metadata": {
        "id": "9_ys6Ch-qBtc"
      }
    },
    {
      "cell_type": "code",
      "source": [
        "print(sen.capitalize())"
      ],
      "metadata": {
        "colab": {
          "base_uri": "https://localhost:8080/"
        },
        "id": "U2hkvGIfp5lZ",
        "outputId": "f3931ac6-8894-4e72-e6c3-c732fb34695e"
      },
      "execution_count": 66,
      "outputs": [
        {
          "output_type": "stream",
          "name": "stdout",
          "text": [
            "India is my country. all indians are my brothers and sisters\n"
          ]
        }
      ]
    },
    {
      "cell_type": "markdown",
      "source": [
        "**Search a specific part of a string for a substring**"
      ],
      "metadata": {
        "id": "SGj-lhsHrZr0"
      }
    },
    {
      "cell_type": "code",
      "source": [
        "print(sen.index(\"my\",10,40))"
      ],
      "metadata": {
        "colab": {
          "base_uri": "https://localhost:8080/"
        },
        "id": "TraGFuAKqJ69",
        "outputId": "6646f6c4-631f-4540-a05b-79940452fba1"
      },
      "execution_count": 67,
      "outputs": [
        {
          "output_type": "stream",
          "name": "stdout",
          "text": [
            "37\n"
          ]
        }
      ]
    },
    {
      "cell_type": "markdown",
      "source": [
        "**Check if a string contains only numbers**"
      ],
      "metadata": {
        "id": "nTCeiD8CsYF6"
      }
    },
    {
      "cell_type": "code",
      "source": [
        "print(sen.isnumeric())"
      ],
      "metadata": {
        "colab": {
          "base_uri": "https://localhost:8080/"
        },
        "id": "vt83ovlLruyV",
        "outputId": "56e301b8-188b-443d-d77d-3aebd44163c1"
      },
      "execution_count": 68,
      "outputs": [
        {
          "output_type": "stream",
          "name": "stdout",
          "text": [
            "False\n"
          ]
        }
      ]
    },
    {
      "cell_type": "markdown",
      "source": [
        "**Split a string on a specific character**"
      ],
      "metadata": {
        "id": "0TA60_wisjU0"
      }
    },
    {
      "cell_type": "code",
      "source": [
        "print(sen.split(\".\"))"
      ],
      "metadata": {
        "colab": {
          "base_uri": "https://localhost:8080/"
        },
        "id": "Hzx9gfgUsfo4",
        "outputId": "401e25a7-6f2a-438c-a28b-7dcfaf81e4b9"
      },
      "execution_count": 69,
      "outputs": [
        {
          "output_type": "stream",
          "name": "stdout",
          "text": [
            "['India is my country', ' All Indians are my brothers and sisters']\n"
          ]
        }
      ]
    },
    {
      "cell_type": "markdown",
      "source": [
        "**Check if a string is composed of all lower case characters**"
      ],
      "metadata": {
        "id": "TvoT-EJKs2IM"
      }
    },
    {
      "cell_type": "code",
      "source": [
        "print(sen.islower())"
      ],
      "metadata": {
        "colab": {
          "base_uri": "https://localhost:8080/"
        },
        "id": "kjW3oYXks2cg",
        "outputId": "4934142d-4ead-48cc-c30d-8df762c37a22"
      },
      "execution_count": 70,
      "outputs": [
        {
          "output_type": "stream",
          "name": "stdout",
          "text": [
            "False\n"
          ]
        }
      ]
    },
    {
      "cell_type": "markdown",
      "source": [
        "**Check if the first character in a string is lowercase**"
      ],
      "metadata": {
        "id": "n560uYYetCzk"
      }
    },
    {
      "cell_type": "code",
      "source": [
        "print(sen[0].islower())"
      ],
      "metadata": {
        "colab": {
          "base_uri": "https://localhost:8080/"
        },
        "id": "ccHxT6CXs92s",
        "outputId": "c09ae733-69bb-479d-be4d-4590ea1097a1"
      },
      "execution_count": 71,
      "outputs": [
        {
          "output_type": "stream",
          "name": "stdout",
          "text": [
            "False\n"
          ]
        }
      ]
    },
    {
      "cell_type": "markdown",
      "source": [
        "**Reverse the string “hello world”**"
      ],
      "metadata": {
        "id": "2z_DFKzctTUc"
      }
    },
    {
      "cell_type": "code",
      "source": [
        "\"\".join(reversed(sen))"
      ],
      "metadata": {
        "colab": {
          "base_uri": "https://localhost:8080/",
          "height": 35
        },
        "id": "D8T76Nc6tJNk",
        "outputId": "7c419fc8-36b1-42ab-a0df-c85e43020c35"
      },
      "execution_count": 72,
      "outputs": [
        {
          "output_type": "execute_result",
          "data": {
            "text/plain": [
              "'sretsis dna srehtorb ym era snaidnI llA .yrtnuoc ym si aidnI'"
            ],
            "application/vnd.google.colaboratory.intrinsic+json": {
              "type": "string"
            }
          },
          "metadata": {},
          "execution_count": 72
        }
      ]
    },
    {
      "cell_type": "markdown",
      "source": [
        "**Uppercase or lowercase an entire string**"
      ],
      "metadata": {
        "id": "Dsc57hQOuCZ2"
      }
    },
    {
      "cell_type": "code",
      "source": [
        "sen.upper()"
      ],
      "metadata": {
        "colab": {
          "base_uri": "https://localhost:8080/",
          "height": 35
        },
        "id": "gyn9uFS8tzHk",
        "outputId": "a0b7a45f-4eae-40dd-c411-2f900f4078e7"
      },
      "execution_count": 73,
      "outputs": [
        {
          "output_type": "execute_result",
          "data": {
            "text/plain": [
              "'INDIA IS MY COUNTRY. ALL INDIANS ARE MY BROTHERS AND SISTERS'"
            ],
            "application/vnd.google.colaboratory.intrinsic+json": {
              "type": "string"
            }
          },
          "metadata": {},
          "execution_count": 73
        }
      ]
    },
    {
      "cell_type": "code",
      "source": [
        "sen.lower()"
      ],
      "metadata": {
        "colab": {
          "base_uri": "https://localhost:8080/",
          "height": 35
        },
        "id": "qZDrBDtWuIvl",
        "outputId": "68bb95d3-0a01-4ab5-c8ea-acfe22565c43"
      },
      "execution_count": 74,
      "outputs": [
        {
          "output_type": "execute_result",
          "data": {
            "text/plain": [
              "'india is my country. all indians are my brothers and sisters'"
            ],
            "application/vnd.google.colaboratory.intrinsic+json": {
              "type": "string"
            }
          },
          "metadata": {},
          "execution_count": 74
        }
      ]
    },
    {
      "cell_type": "markdown",
      "source": [
        "**Uppercase first and last character of a string**"
      ],
      "metadata": {
        "id": "l0IcYWyAurEo"
      }
    },
    {
      "cell_type": "code",
      "source": [
        "sen[0].upper()+sen[1:-1]+sen[-1].upper()"
      ],
      "metadata": {
        "colab": {
          "base_uri": "https://localhost:8080/",
          "height": 35
        },
        "id": "JS6dF9UPusN0",
        "outputId": "fc4506a2-9314-4689-898a-55f580a38e22"
      },
      "execution_count": 75,
      "outputs": [
        {
          "output_type": "execute_result",
          "data": {
            "text/plain": [
              "'India is my country. All Indians are my brothers and sisterS'"
            ],
            "application/vnd.google.colaboratory.intrinsic+json": {
              "type": "string"
            }
          },
          "metadata": {},
          "execution_count": 75
        }
      ]
    },
    {
      "cell_type": "markdown",
      "source": [
        "**Check if a string is all uppercase**"
      ],
      "metadata": {
        "id": "cJ8f3TW-vX_s"
      }
    },
    {
      "cell_type": "code",
      "source": [
        "print(sen.isupper())"
      ],
      "metadata": {
        "colab": {
          "base_uri": "https://localhost:8080/"
        },
        "id": "amQrmR6Ju8Bi",
        "outputId": "0083a6bc-b37e-4532-d3f1-ee59ea7a716c"
      },
      "execution_count": 76,
      "outputs": [
        {
          "output_type": "stream",
          "name": "stdout",
          "text": [
            "False\n"
          ]
        }
      ]
    },
    {
      "cell_type": "markdown",
      "source": [
        "**Give an example of string slicing**"
      ],
      "metadata": {
        "id": "WSwTnYL7yLgU"
      }
    },
    {
      "cell_type": "code",
      "source": [
        "r1=sen[5:25]\n",
        "print(r1)"
      ],
      "metadata": {
        "colab": {
          "base_uri": "https://localhost:8080/"
        },
        "id": "S9QBymlavfk0",
        "outputId": "2b75ef0e-59ff-4531-b3d9-36b8438137ac"
      },
      "execution_count": 77,
      "outputs": [
        {
          "output_type": "stream",
          "name": "stdout",
          "text": [
            " is my country. All \n"
          ]
        }
      ]
    },
    {
      "cell_type": "markdown",
      "source": [
        "**Convert an integer to a string**"
      ],
      "metadata": {
        "id": "q1lkQfJTye1e"
      }
    },
    {
      "cell_type": "code",
      "source": [
        "int_val=50000\n",
        "str_val=str(int_val)\n",
        "str_val"
      ],
      "metadata": {
        "colab": {
          "base_uri": "https://localhost:8080/",
          "height": 35
        },
        "id": "4-IMRvlrybti",
        "outputId": "8da292ad-1281-4e31-ff21-2998db383bcd"
      },
      "execution_count": 78,
      "outputs": [
        {
          "output_type": "execute_result",
          "data": {
            "text/plain": [
              "'50000'"
            ],
            "application/vnd.google.colaboratory.intrinsic+json": {
              "type": "string"
            }
          },
          "metadata": {},
          "execution_count": 78
        }
      ]
    },
    {
      "cell_type": "markdown",
      "source": [
        "**Check if a string contains only characters of the alphabet**"
      ],
      "metadata": {
        "id": "BQBrzvyryy0d"
      }
    },
    {
      "cell_type": "code",
      "source": [
        "sen.isalpha()"
      ],
      "metadata": {
        "colab": {
          "base_uri": "https://localhost:8080/"
        },
        "id": "RGBCNvomysZt",
        "outputId": "758943e0-2664-42c0-b33c-ecb7fa430718"
      },
      "execution_count": 79,
      "outputs": [
        {
          "output_type": "execute_result",
          "data": {
            "text/plain": [
              "False"
            ]
          },
          "metadata": {},
          "execution_count": 79
        }
      ]
    },
    {
      "cell_type": "markdown",
      "source": [
        "**Replace all instances of a substring in a string**"
      ],
      "metadata": {
        "id": "U12ZW-QYy9MM"
      }
    },
    {
      "cell_type": "code",
      "source": [
        "sen.replace(\"my\",\"MY\")"
      ],
      "metadata": {
        "colab": {
          "base_uri": "https://localhost:8080/",
          "height": 35
        },
        "id": "VyLjxSIky3O4",
        "outputId": "03fdfd2a-71b0-4710-ff49-873d693a0a35"
      },
      "execution_count": 80,
      "outputs": [
        {
          "output_type": "execute_result",
          "data": {
            "text/plain": [
              "'India is MY country. All Indians are MY brothers and sisters'"
            ],
            "application/vnd.google.colaboratory.intrinsic+json": {
              "type": "string"
            }
          },
          "metadata": {},
          "execution_count": 80
        }
      ]
    },
    {
      "cell_type": "markdown",
      "source": [
        "**Return the minimum character in a string**"
      ],
      "metadata": {
        "id": "WYFx-o2kzYLu"
      }
    },
    {
      "cell_type": "code",
      "source": [
        "min(sen)"
      ],
      "metadata": {
        "colab": {
          "base_uri": "https://localhost:8080/",
          "height": 35
        },
        "id": "0GkVtqZTzX8U",
        "outputId": "64f508a6-df8f-4fcc-d75c-b9c9a5ad85df"
      },
      "execution_count": 81,
      "outputs": [
        {
          "output_type": "execute_result",
          "data": {
            "text/plain": [
              "' '"
            ],
            "application/vnd.google.colaboratory.intrinsic+json": {
              "type": "string"
            }
          },
          "metadata": {},
          "execution_count": 81
        }
      ]
    },
    {
      "cell_type": "markdown",
      "source": [
        "**Remove whitespace from the left, right or both sides of a string**"
      ],
      "metadata": {
        "id": "QcUV0CpJztb3"
      }
    },
    {
      "cell_type": "code",
      "source": [
        "s = '  string of whitespace    '\n",
        "\n",
        "print(s.lstrip()) #=> 'string of whitespace    '\n",
        "print(s.rstrip()) #=> '  string of whitespace'\n",
        "print(s.strip()) #=> 'string of whitespace'"
      ],
      "metadata": {
        "colab": {
          "base_uri": "https://localhost:8080/"
        },
        "id": "PbIQeSslzu9H",
        "outputId": "d67f44f4-9c8c-4057-b26c-fe043e4a8ac7"
      },
      "execution_count": 82,
      "outputs": [
        {
          "output_type": "stream",
          "name": "stdout",
          "text": [
            "string of whitespace    \n",
            "  string of whitespace\n",
            "string of whitespace\n"
          ]
        }
      ]
    },
    {
      "cell_type": "markdown",
      "source": [
        "**Check if a string begins with or ends with a specific character?**"
      ],
      "metadata": {
        "id": "PTVW7OKb0PpY"
      }
    },
    {
      "cell_type": "code",
      "source": [
        "print(sen.startswith('I')) #=> True\n",
        "print(sen.endswith('M')) #=> False"
      ],
      "metadata": {
        "colab": {
          "base_uri": "https://localhost:8080/"
        },
        "id": "NjKJtpW80Q2U",
        "outputId": "e440f602-d6dd-4ec3-c1a8-cc2989151acc"
      },
      "execution_count": 83,
      "outputs": [
        {
          "output_type": "stream",
          "name": "stdout",
          "text": [
            "True\n",
            "False\n"
          ]
        }
      ]
    },
    {
      "cell_type": "markdown",
      "source": [
        "**What is the effect of multiplying a string by 3?**"
      ],
      "metadata": {
        "id": "4vy_mNzB0xB-"
      }
    },
    {
      "cell_type": "code",
      "source": [
        "sen*2"
      ],
      "metadata": {
        "colab": {
          "base_uri": "https://localhost:8080/",
          "height": 35
        },
        "id": "7WqIZphB0yUm",
        "outputId": "6b0356c2-f2ae-416a-e74f-8400463469b7"
      },
      "execution_count": 84,
      "outputs": [
        {
          "output_type": "execute_result",
          "data": {
            "text/plain": [
              "'India is my country. All Indians are my brothers and sistersIndia is my country. All Indians are my brothers and sisters'"
            ],
            "application/vnd.google.colaboratory.intrinsic+json": {
              "type": "string"
            }
          },
          "metadata": {},
          "execution_count": 84
        }
      ]
    },
    {
      "cell_type": "markdown",
      "source": [
        "**Concatenate two strings**"
      ],
      "metadata": {
        "id": "RGRqaBFN1Iuf"
      }
    },
    {
      "cell_type": "code",
      "source": [
        "sen + \". Jai hind\""
      ],
      "metadata": {
        "colab": {
          "base_uri": "https://localhost:8080/",
          "height": 35
        },
        "id": "q8aJWkSx1LFF",
        "outputId": "512e2187-c3b5-48d1-aaaf-643b2dcdab45"
      },
      "execution_count": 85,
      "outputs": [
        {
          "output_type": "execute_result",
          "data": {
            "text/plain": [
              "'India is my country. All Indians are my brothers and sisters. Jai hind'"
            ],
            "application/vnd.google.colaboratory.intrinsic+json": {
              "type": "string"
            }
          },
          "metadata": {},
          "execution_count": 85
        }
      ]
    },
    {
      "cell_type": "markdown",
      "source": [
        "# **Thank you..................**"
      ],
      "metadata": {
        "id": "xWCzcDflRpB6"
      }
    }
  ]
}